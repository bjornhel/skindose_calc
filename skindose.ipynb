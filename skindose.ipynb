{
 "cells": [
  {
   "cell_type": "code",
   "execution_count": 3,
   "id": "9eda2ab0",
   "metadata": {},
   "outputs": [],
   "source": [
    "from pyskindose import (\n",
    "    PyskindoseSettings,\n",
    "    load_settings_example_json,\n",
    "    print_available_human_phantoms,\n",
    "    get_path_to_example_rdsr_files,\n",
    "    print_example_rdsr_files,\n",
    ")\n",
    "from pyskindose.main import main\n",
    "import json\n",
    "from pathlib import Path"
   ]
  },
  {
   "cell_type": "code",
   "execution_count": null,
   "id": "5fb68a1f",
   "metadata": {},
   "outputs": [],
   "source": [
    "# path current directory plus filename\n",
    "fp_rrh_xa1 = Path(Path.cwd(), 'settings_rrh_xa1.json')\n",
    "with open(fp_rrh_xa1, 'r') as f:\n",
    "    settings_rrh_xa1 = json.load(f)\n",
    "\n",
    "\n"
   ]
  },
  {
   "cell_type": "code",
   "execution_count": 6,
   "id": "dffbe564",
   "metadata": {},
   "outputs": [
    {
     "name": "stdout",
     "output_type": "stream",
     "text": [
      "plot_event\n"
     ]
    }
   ],
   "source": [
    "print(settings_rrh_xa1['mode'])\n"
   ]
  },
  {
   "cell_type": "code",
   "execution_count": null,
   "id": "99fbd59d",
   "metadata": {},
   "outputs": [],
   "source": [
    "settings = PyskindoseSettings(settings=load_settings_example_json())\n",
    "settings.mode = \"plot_setup\"\n",
    "settings.phantom.model = \"human\"\n",
    "settings.phantom.human_mesh = \"adult_male\"\n",
    "\n",
    "# Uncomment any of the following lines to translate the position of the phantom:\n",
    "# settings.phantom.patient_offset.d_lat = -20\n",
    "# settings.phantom.patient_offset.d_lon = +10\n",
    "# settings.phantom.patient_offset.d_ver = -10\n",
    "\n",
    "main(settings=settings)"
   ]
  },
  {
   "cell_type": "code",
   "execution_count": null,
   "id": "6702c124",
   "metadata": {},
   "outputs": [],
   "source": [
    "settings = PyskindoseSettings(settings=settings_rrh_xa1)\n",
    "settings.mode = \"plot_procedure\"\n",
    "settings.phantom.model = \"human\"\n",
    "settings.phantom.human_mesh = \"adult_male\"\n",
    "\n",
    "rdsr_path = '/run/media/bhosteras/PRIVATE_USB/skindose/RDSR/20250409_10_RDSR.dcm'\n",
    "\n",
    "# You can set the maximum number of irradiation events for including the\n",
    "# phantom in the plot. Here, we set it to 0 to reduce memory use.\n",
    "settings.plot.max_events_for_patient_inclusion = 0\n",
    "\n",
    "# Change this path to use your own RDSR file\n",
    "# N.B: If your are using a windows OS, you need to set the path as r raw string,\n",
    "# for example:\n",
    "# selected_rdsr_filepath = Path(r'c:\\rdsr_files\\file_name.dcm')\n",
    "\n",
    "main(settings=settings, file_path=rdsr_path)"
   ]
  }
 ],
 "metadata": {
  "kernelspec": {
   "display_name": "BHPython313",
   "language": "python",
   "name": "python3"
  },
  "language_info": {
   "codemirror_mode": {
    "name": "ipython",
    "version": 3
   },
   "file_extension": ".py",
   "mimetype": "text/x-python",
   "name": "python",
   "nbconvert_exporter": "python",
   "pygments_lexer": "ipython3",
   "version": "3.13.2"
  }
 },
 "nbformat": 4,
 "nbformat_minor": 5
}
